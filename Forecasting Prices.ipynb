{
 "cells": [
  {
   "cell_type": "markdown",
   "metadata": {
    "id": "Kdgvpps_IPWF"
   },
   "source": [
    "# Importing Libraries"
   ]
  },
  {
   "cell_type": "code",
   "execution_count": 8,
   "metadata": {
    "id": "BJjqp07M-aS-"
   },
   "outputs": [],
   "source": [
    "import numpy as np\n",
    "import pandas as pd\n",
    "from matplotlib import pyplot as plt\n",
    "from sklearn.preprocessing import MinMaxScaler\n",
    "from keras.models import Sequential\n",
    "from keras.layers import Dense, Dropout, LSTM\n",
    "from pmdarima import auto_arima\n",
    "\n"
   ]
  },
  {
   "cell_type": "markdown",
   "metadata": {
    "id": "gUOIlGm8ITtK"
   },
   "source": [
    "# Preparing the dataset"
   ]
  },
  {
   "cell_type": "code",
   "execution_count": 9,
   "metadata": {
    "colab": {
     "base_uri": "https://localhost:8080/",
     "height": 1000
    },
    "id": "63DgdoWq_0f2",
    "outputId": "ea30a5fd-22f4-44e0-87fc-a26a77338d59"
   },
   "outputs": [
    {
     "data": {
      "text/html": [
       "<div>\n",
       "<style scoped>\n",
       "    .dataframe tbody tr th:only-of-type {\n",
       "        vertical-align: middle;\n",
       "    }\n",
       "\n",
       "    .dataframe tbody tr th {\n",
       "        vertical-align: top;\n",
       "    }\n",
       "\n",
       "    .dataframe thead th {\n",
       "        text-align: right;\n",
       "    }\n",
       "</style>\n",
       "<table border=\"1\" class=\"dataframe\">\n",
       "  <thead>\n",
       "    <tr style=\"text-align: right;\">\n",
       "      <th></th>\n",
       "      <th>Symbol</th>\n",
       "      <th>Series</th>\n",
       "      <th>Date</th>\n",
       "      <th>Prev Close</th>\n",
       "      <th>Open Price</th>\n",
       "      <th>High Price</th>\n",
       "      <th>Low Price</th>\n",
       "      <th>Last Price</th>\n",
       "      <th>Close Price</th>\n",
       "      <th>Average Price</th>\n",
       "      <th>Total Traded Quantity</th>\n",
       "      <th>Turnover</th>\n",
       "      <th>No. of Trades</th>\n",
       "      <th>Deliverable Qty</th>\n",
       "      <th>% Dly Qt to Traded Qty</th>\n",
       "    </tr>\n",
       "  </thead>\n",
       "  <tbody>\n",
       "    <tr>\n",
       "      <th>0</th>\n",
       "      <td>WIPRO</td>\n",
       "      <td>EQ</td>\n",
       "      <td>10-Jul-2019</td>\n",
       "      <td>265.50</td>\n",
       "      <td>264.70</td>\n",
       "      <td>269.50</td>\n",
       "      <td>263.30</td>\n",
       "      <td>266.80</td>\n",
       "      <td>266.95</td>\n",
       "      <td>267.54</td>\n",
       "      <td>2780563</td>\n",
       "      <td>7.439242e+08</td>\n",
       "      <td>36868</td>\n",
       "      <td>985283</td>\n",
       "      <td>35.43</td>\n",
       "    </tr>\n",
       "    <tr>\n",
       "      <th>1</th>\n",
       "      <td>WIPRO</td>\n",
       "      <td>EQ</td>\n",
       "      <td>11-Jul-2019</td>\n",
       "      <td>266.95</td>\n",
       "      <td>267.50</td>\n",
       "      <td>270.00</td>\n",
       "      <td>266.10</td>\n",
       "      <td>268.00</td>\n",
       "      <td>267.75</td>\n",
       "      <td>267.60</td>\n",
       "      <td>2691893</td>\n",
       "      <td>7.203577e+08</td>\n",
       "      <td>29145</td>\n",
       "      <td>1415397</td>\n",
       "      <td>52.58</td>\n",
       "    </tr>\n",
       "    <tr>\n",
       "      <th>2</th>\n",
       "      <td>WIPRO</td>\n",
       "      <td>EQ</td>\n",
       "      <td>12-Jul-2019</td>\n",
       "      <td>267.75</td>\n",
       "      <td>268.00</td>\n",
       "      <td>268.65</td>\n",
       "      <td>258.05</td>\n",
       "      <td>259.80</td>\n",
       "      <td>258.95</td>\n",
       "      <td>261.02</td>\n",
       "      <td>7595278</td>\n",
       "      <td>1.982531e+09</td>\n",
       "      <td>84569</td>\n",
       "      <td>2169089</td>\n",
       "      <td>28.56</td>\n",
       "    </tr>\n",
       "    <tr>\n",
       "      <th>3</th>\n",
       "      <td>WIPRO</td>\n",
       "      <td>EQ</td>\n",
       "      <td>15-Jul-2019</td>\n",
       "      <td>258.95</td>\n",
       "      <td>260.00</td>\n",
       "      <td>262.00</td>\n",
       "      <td>255.90</td>\n",
       "      <td>260.45</td>\n",
       "      <td>259.90</td>\n",
       "      <td>258.77</td>\n",
       "      <td>4747449</td>\n",
       "      <td>1.228518e+09</td>\n",
       "      <td>46716</td>\n",
       "      <td>1338074</td>\n",
       "      <td>28.19</td>\n",
       "    </tr>\n",
       "    <tr>\n",
       "      <th>4</th>\n",
       "      <td>WIPRO</td>\n",
       "      <td>EQ</td>\n",
       "      <td>16-Jul-2019</td>\n",
       "      <td>259.90</td>\n",
       "      <td>259.00</td>\n",
       "      <td>262.70</td>\n",
       "      <td>256.25</td>\n",
       "      <td>260.00</td>\n",
       "      <td>260.00</td>\n",
       "      <td>259.13</td>\n",
       "      <td>4861657</td>\n",
       "      <td>1.259802e+09</td>\n",
       "      <td>68300</td>\n",
       "      <td>1657568</td>\n",
       "      <td>34.09</td>\n",
       "    </tr>\n",
       "    <tr>\n",
       "      <th>...</th>\n",
       "      <td>...</td>\n",
       "      <td>...</td>\n",
       "      <td>...</td>\n",
       "      <td>...</td>\n",
       "      <td>...</td>\n",
       "      <td>...</td>\n",
       "      <td>...</td>\n",
       "      <td>...</td>\n",
       "      <td>...</td>\n",
       "      <td>...</td>\n",
       "      <td>...</td>\n",
       "      <td>...</td>\n",
       "      <td>...</td>\n",
       "      <td>...</td>\n",
       "      <td>...</td>\n",
       "    </tr>\n",
       "    <tr>\n",
       "      <th>491</th>\n",
       "      <td>WIPRO</td>\n",
       "      <td>EQ</td>\n",
       "      <td>02-Jul-2021</td>\n",
       "      <td>539.35</td>\n",
       "      <td>540.10</td>\n",
       "      <td>542.30</td>\n",
       "      <td>533.60</td>\n",
       "      <td>538.65</td>\n",
       "      <td>538.60</td>\n",
       "      <td>537.30</td>\n",
       "      <td>4157307</td>\n",
       "      <td>2.233736e+09</td>\n",
       "      <td>98129</td>\n",
       "      <td>1552218</td>\n",
       "      <td>37.34</td>\n",
       "    </tr>\n",
       "    <tr>\n",
       "      <th>492</th>\n",
       "      <td>WIPRO</td>\n",
       "      <td>EQ</td>\n",
       "      <td>05-Jul-2021</td>\n",
       "      <td>538.60</td>\n",
       "      <td>542.90</td>\n",
       "      <td>542.90</td>\n",
       "      <td>535.55</td>\n",
       "      <td>536.50</td>\n",
       "      <td>536.35</td>\n",
       "      <td>537.49</td>\n",
       "      <td>3439169</td>\n",
       "      <td>1.848526e+09</td>\n",
       "      <td>71275</td>\n",
       "      <td>1313313</td>\n",
       "      <td>38.19</td>\n",
       "    </tr>\n",
       "    <tr>\n",
       "      <th>493</th>\n",
       "      <td>WIPRO</td>\n",
       "      <td>EQ</td>\n",
       "      <td>06-Jul-2021</td>\n",
       "      <td>536.35</td>\n",
       "      <td>536.55</td>\n",
       "      <td>538.30</td>\n",
       "      <td>531.85</td>\n",
       "      <td>533.35</td>\n",
       "      <td>532.60</td>\n",
       "      <td>533.81</td>\n",
       "      <td>4193441</td>\n",
       "      <td>2.238520e+09</td>\n",
       "      <td>82063</td>\n",
       "      <td>1544484</td>\n",
       "      <td>36.83</td>\n",
       "    </tr>\n",
       "    <tr>\n",
       "      <th>494</th>\n",
       "      <td>WIPRO</td>\n",
       "      <td>EQ</td>\n",
       "      <td>07-Jul-2021</td>\n",
       "      <td>532.60</td>\n",
       "      <td>534.05</td>\n",
       "      <td>536.40</td>\n",
       "      <td>525.10</td>\n",
       "      <td>533.20</td>\n",
       "      <td>532.15</td>\n",
       "      <td>531.49</td>\n",
       "      <td>5377687</td>\n",
       "      <td>2.858185e+09</td>\n",
       "      <td>99342</td>\n",
       "      <td>1812291</td>\n",
       "      <td>33.70</td>\n",
       "    </tr>\n",
       "    <tr>\n",
       "      <th>495</th>\n",
       "      <td>WIPRO</td>\n",
       "      <td>EQ</td>\n",
       "      <td>08-Jul-2021</td>\n",
       "      <td>532.15</td>\n",
       "      <td>533.90</td>\n",
       "      <td>536.95</td>\n",
       "      <td>528.00</td>\n",
       "      <td>531.80</td>\n",
       "      <td>531.00</td>\n",
       "      <td>532.33</td>\n",
       "      <td>4565510</td>\n",
       "      <td>2.430345e+09</td>\n",
       "      <td>80316</td>\n",
       "      <td>2064172</td>\n",
       "      <td>45.21</td>\n",
       "    </tr>\n",
       "  </tbody>\n",
       "</table>\n",
       "<p>496 rows × 15 columns</p>\n",
       "</div>"
      ],
      "text/plain": [
       "    Symbol Series         Date  Prev Close  Open Price  High Price  Low Price  \\\n",
       "0    WIPRO     EQ  10-Jul-2019      265.50      264.70      269.50     263.30   \n",
       "1    WIPRO     EQ  11-Jul-2019      266.95      267.50      270.00     266.10   \n",
       "2    WIPRO     EQ  12-Jul-2019      267.75      268.00      268.65     258.05   \n",
       "3    WIPRO     EQ  15-Jul-2019      258.95      260.00      262.00     255.90   \n",
       "4    WIPRO     EQ  16-Jul-2019      259.90      259.00      262.70     256.25   \n",
       "..     ...    ...          ...         ...         ...         ...        ...   \n",
       "491  WIPRO     EQ  02-Jul-2021      539.35      540.10      542.30     533.60   \n",
       "492  WIPRO     EQ  05-Jul-2021      538.60      542.90      542.90     535.55   \n",
       "493  WIPRO     EQ  06-Jul-2021      536.35      536.55      538.30     531.85   \n",
       "494  WIPRO     EQ  07-Jul-2021      532.60      534.05      536.40     525.10   \n",
       "495  WIPRO     EQ  08-Jul-2021      532.15      533.90      536.95     528.00   \n",
       "\n",
       "     Last Price  Close Price  Average Price  Total Traded Quantity  \\\n",
       "0        266.80       266.95         267.54                2780563   \n",
       "1        268.00       267.75         267.60                2691893   \n",
       "2        259.80       258.95         261.02                7595278   \n",
       "3        260.45       259.90         258.77                4747449   \n",
       "4        260.00       260.00         259.13                4861657   \n",
       "..          ...          ...            ...                    ...   \n",
       "491      538.65       538.60         537.30                4157307   \n",
       "492      536.50       536.35         537.49                3439169   \n",
       "493      533.35       532.60         533.81                4193441   \n",
       "494      533.20       532.15         531.49                5377687   \n",
       "495      531.80       531.00         532.33                4565510   \n",
       "\n",
       "         Turnover  No. of Trades  Deliverable Qty  % Dly Qt to Traded Qty  \n",
       "0    7.439242e+08          36868           985283                   35.43  \n",
       "1    7.203577e+08          29145          1415397                   52.58  \n",
       "2    1.982531e+09          84569          2169089                   28.56  \n",
       "3    1.228518e+09          46716          1338074                   28.19  \n",
       "4    1.259802e+09          68300          1657568                   34.09  \n",
       "..            ...            ...              ...                     ...  \n",
       "491  2.233736e+09          98129          1552218                   37.34  \n",
       "492  1.848526e+09          71275          1313313                   38.19  \n",
       "493  2.238520e+09          82063          1544484                   36.83  \n",
       "494  2.858185e+09          99342          1812291                   33.70  \n",
       "495  2.430345e+09          80316          2064172                   45.21  \n",
       "\n",
       "[496 rows x 15 columns]"
      ]
     },
     "metadata": {},
     "output_type": "display_data"
    },
    {
     "data": {
      "text/html": [
       "<div>\n",
       "<style scoped>\n",
       "    .dataframe tbody tr th:only-of-type {\n",
       "        vertical-align: middle;\n",
       "    }\n",
       "\n",
       "    .dataframe tbody tr th {\n",
       "        vertical-align: top;\n",
       "    }\n",
       "\n",
       "    .dataframe thead th {\n",
       "        text-align: right;\n",
       "    }\n",
       "</style>\n",
       "<table border=\"1\" class=\"dataframe\">\n",
       "  <thead>\n",
       "    <tr style=\"text-align: right;\">\n",
       "      <th></th>\n",
       "      <th>Close_Price</th>\n",
       "    </tr>\n",
       "    <tr>\n",
       "      <th>Date</th>\n",
       "      <th></th>\n",
       "    </tr>\n",
       "  </thead>\n",
       "  <tbody>\n",
       "    <tr>\n",
       "      <th>10-Jul-2019</th>\n",
       "      <td>266.95</td>\n",
       "    </tr>\n",
       "    <tr>\n",
       "      <th>11-Jul-2019</th>\n",
       "      <td>267.75</td>\n",
       "    </tr>\n",
       "    <tr>\n",
       "      <th>12-Jul-2019</th>\n",
       "      <td>258.95</td>\n",
       "    </tr>\n",
       "    <tr>\n",
       "      <th>15-Jul-2019</th>\n",
       "      <td>259.9</td>\n",
       "    </tr>\n",
       "    <tr>\n",
       "      <th>16-Jul-2019</th>\n",
       "      <td>260</td>\n",
       "    </tr>\n",
       "    <tr>\n",
       "      <th>...</th>\n",
       "      <td>...</td>\n",
       "    </tr>\n",
       "    <tr>\n",
       "      <th>02-Jul-2021</th>\n",
       "      <td>538.6</td>\n",
       "    </tr>\n",
       "    <tr>\n",
       "      <th>05-Jul-2021</th>\n",
       "      <td>536.35</td>\n",
       "    </tr>\n",
       "    <tr>\n",
       "      <th>06-Jul-2021</th>\n",
       "      <td>532.6</td>\n",
       "    </tr>\n",
       "    <tr>\n",
       "      <th>07-Jul-2021</th>\n",
       "      <td>532.15</td>\n",
       "    </tr>\n",
       "    <tr>\n",
       "      <th>08-Jul-2021</th>\n",
       "      <td>531</td>\n",
       "    </tr>\n",
       "  </tbody>\n",
       "</table>\n",
       "<p>496 rows × 1 columns</p>\n",
       "</div>"
      ],
      "text/plain": [
       "            Close_Price\n",
       "Date                   \n",
       "10-Jul-2019      266.95\n",
       "11-Jul-2019      267.75\n",
       "12-Jul-2019      258.95\n",
       "15-Jul-2019       259.9\n",
       "16-Jul-2019         260\n",
       "...                 ...\n",
       "02-Jul-2021       538.6\n",
       "05-Jul-2021      536.35\n",
       "06-Jul-2021       532.6\n",
       "07-Jul-2021      532.15\n",
       "08-Jul-2021         531\n",
       "\n",
       "[496 rows x 1 columns]"
      ]
     },
     "metadata": {},
     "output_type": "display_data"
    }
   ],
   "source": [
    "#creating the dataframe\n",
    "df = pd.read_csv(r\"C:\\Users\\Lenovo\\Downloads\\wipro_Stock_data.csv\")\n",
    "df = df.sort_index(ascending=True, axis=0)\n",
    "display(df)\n",
    "\n",
    "#extracting the neccessary column\n",
    "dataset = pd.DataFrame(index=range(0,len(df)),columns=['Date', 'Close_Price'])\n",
    "\n",
    "for i in range(0,len(df)):\n",
    "    dataset['Date'][i] = df['Date'][i]\n",
    "    dataset['Close_Price'][i] = df['Close Price'][i]\n",
    "\n",
    "#setting index\n",
    "dataset.index = df[\"Date\"]\n",
    "dataset.drop('Date', axis=1, inplace=True)\n",
    "display(dataset)"
   ]
  },
  {
   "cell_type": "code",
   "execution_count": 10,
   "metadata": {
    "id": "QFhRwnJXCPxk"
   },
   "outputs": [],
   "source": [
    "#splitting test and train datasets\n",
    "data = dataset.values\n",
    "train = data[0:434,:]\n",
    "test = data[434:,:]\n"
   ]
  },
  {
   "cell_type": "code",
   "execution_count": 11,
   "metadata": {
    "id": "gN56mlD6C6D8"
   },
   "outputs": [
    {
     "name": "stdout",
     "output_type": "stream",
     "text": [
      "(374, 60, 1)\n",
      "(374,)\n"
     ]
    },
    {
     "data": {
      "text/plain": [
       "array([[450.1],\n",
       "       [432.6],\n",
       "       [418.95],\n",
       "       [430.7],\n",
       "       [469.2],\n",
       "       [472.75],\n",
       "       [470.1],\n",
       "       [486.65],\n",
       "       [475.7],\n",
       "       [480.3],\n",
       "       [485.05],\n",
       "       [489.3],\n",
       "       [489.85],\n",
       "       [492.75],\n",
       "       [487.35],\n",
       "       [481.95],\n",
       "       [490.6],\n",
       "       [512.3],\n",
       "       [515.25],\n",
       "       [525.95],\n",
       "       [518.4],\n",
       "       [507.6],\n",
       "       [498.45],\n",
       "       [499.8],\n",
       "       [508.05],\n",
       "       [511.65],\n",
       "       [508.25],\n",
       "       [512.7],\n",
       "       [514.9],\n",
       "       [517.55],\n",
       "       [527.25],\n",
       "       [540.9],\n",
       "       [538.7],\n",
       "       [539.05],\n",
       "       [542.8],\n",
       "       [543.0],\n",
       "       [539.05],\n",
       "       [541.2],\n",
       "       [548.25],\n",
       "       [550.6],\n",
       "       [544.2],\n",
       "       [554.25],\n",
       "       [554.3],\n",
       "       [561.6],\n",
       "       [557.9],\n",
       "       [555.25],\n",
       "       [558.7],\n",
       "       [549.8],\n",
       "       [542.15],\n",
       "       [556.55],\n",
       "       [540.15],\n",
       "       [549.05],\n",
       "       [547.5],\n",
       "       [547.4],\n",
       "       [542.6],\n",
       "       [545.65],\n",
       "       [539.35],\n",
       "       [538.6],\n",
       "       [536.35],\n",
       "       [532.6],\n",
       "       [532.15],\n",
       "       [531.0]], dtype=object)"
      ]
     },
     "metadata": {},
     "output_type": "display_data"
    }
   ],
   "source": [
    "#scaling the data and preparing it for the model \n",
    "scaler = MinMaxScaler(feature_range=(0, 1))\n",
    "scaled_data = scaler.fit_transform(data)\n",
    "\n",
    "x_train, y_train = [], []\n",
    "for i in range(60,len(train)):\n",
    "    x_train.append(scaled_data[i-60:i,0])\n",
    "    y_train.append(scaled_data[i,0])\n",
    "x_train, y_train = np.array(x_train), np.array(y_train)\n",
    "x_train = np.reshape(x_train, (x_train.shape[0],x_train.shape[1],1))\n",
    "print(x_train.shape)\n",
    "print(y_train.shape)\n",
    "display(test)"
   ]
  },
  {
   "cell_type": "markdown",
   "metadata": {
    "id": "vB7t3wxFIbfN"
   },
   "source": [
    "# Training the model"
   ]
  },
  {
   "cell_type": "code",
   "execution_count": 5,
   "metadata": {
    "colab": {
     "base_uri": "https://localhost:8080/"
    },
    "id": "PQzZPtci-N9y",
    "outputId": "71553820-e3ef-466f-e77b-2eadb09a4e21",
    "scrolled": true
   },
   "outputs": [
    {
     "name": "stdout",
     "output_type": "stream",
     "text": [
      "Epoch 1/20\n",
      "374/374 - 23s - loss: 0.0046\n",
      "Epoch 2/20\n",
      "374/374 - 5s - loss: 0.0016\n",
      "Epoch 3/20\n",
      "374/374 - 5s - loss: 0.0014\n",
      "Epoch 4/20\n",
      "374/374 - 5s - loss: 0.0010\n",
      "Epoch 5/20\n",
      "374/374 - 5s - loss: 0.0010\n",
      "Epoch 6/20\n",
      "374/374 - 5s - loss: 7.5757e-04\n",
      "Epoch 7/20\n",
      "374/374 - 5s - loss: 7.7655e-04\n",
      "Epoch 8/20\n",
      "374/374 - 5s - loss: 6.7670e-04\n",
      "Epoch 9/20\n",
      "374/374 - 5s - loss: 6.2277e-04\n",
      "Epoch 10/20\n",
      "374/374 - 5s - loss: 5.8313e-04\n",
      "Epoch 11/20\n",
      "374/374 - 5s - loss: 4.8007e-04\n",
      "Epoch 12/20\n",
      "374/374 - 6s - loss: 4.6478e-04\n",
      "Epoch 13/20\n",
      "374/374 - 6s - loss: 3.8327e-04\n",
      "Epoch 14/20\n",
      "374/374 - 6s - loss: 4.0303e-04\n",
      "Epoch 15/20\n",
      "374/374 - 6s - loss: 4.5229e-04\n",
      "Epoch 16/20\n",
      "374/374 - 6s - loss: 4.3112e-04\n",
      "Epoch 17/20\n",
      "374/374 - 5s - loss: 4.0700e-04\n",
      "Epoch 18/20\n",
      "374/374 - 6s - loss: 3.6887e-04\n",
      "Epoch 19/20\n",
      "374/374 - 6s - loss: 4.7471e-04\n",
      "Epoch 20/20\n",
      "374/374 - 6s - loss: 5.7283e-04\n"
     ]
    },
    {
     "data": {
      "text/plain": [
       "<keras.callbacks.History at 0x224fa6ddaf0>"
      ]
     },
     "execution_count": 5,
     "metadata": {},
     "output_type": "execute_result"
    }
   ],
   "source": [
    "model = Sequential()\n",
    "model.add(LSTM(units=50, return_sequences=True, input_shape=(x_train.shape[1],1)))\n",
    "model.add(LSTM(units=50))\n",
    "model.add(Dense(1))\n",
    "\n",
    "model.compile(loss='mean_squared_error', optimizer='adam')\n",
    "model.fit(x_train, y_train, epochs=20, batch_size=1, verbose=2)"
   ]
  },
  {
   "cell_type": "code",
   "execution_count": 6,
   "metadata": {
    "id": "EyWq0lxkGkXG"
   },
   "outputs": [
    {
     "name": "stdout",
     "output_type": "stream",
     "text": [
      "62\n",
      "(62, 60)\n"
     ]
    }
   ],
   "source": [
    "#predicting 246 values, using past 60 from the train data\n",
    "print(len(test))\n",
    "input = dataset[len(dataset) - len(test) - 60:].values\n",
    "input = input.reshape(-1,1)\n",
    "input  = scaler.transform(input)\n",
    "\n",
    "X_test = []\n",
    "for i in range(60,input.shape[0]):\n",
    "    X_test.append(input[i-60:i,0])\n",
    "X_test = np.array(X_test)\n",
    "print(X_test.shape)\n",
    "X_test = np.reshape(X_test, (X_test.shape[0],X_test.shape[1],1))\n",
    "Closing_price = model.predict(X_test)\n",
    "Closing_price = scaler.inverse_transform(Closing_price)\n",
    "\n"
   ]
  },
  {
   "cell_type": "markdown",
   "metadata": {
    "id": "YR4nKwsUHPg_"
   },
   "source": [
    "# Testing the model"
   ]
  },
  {
   "cell_type": "code",
   "execution_count": 7,
   "metadata": {
    "colab": {
     "base_uri": "https://localhost:8080/"
    },
    "id": "GY--fGSF-N-N",
    "outputId": "7b3aed83-2bef-470c-ebcd-905d96ddd73c"
   },
   "outputs": [
    {
     "data": {
      "text/plain": [
       "13.48427235043226"
      ]
     },
     "execution_count": 7,
     "metadata": {},
     "output_type": "execute_result"
    }
   ],
   "source": [
    "#testing the accuracy\n",
    "rms=np.sqrt(np.mean(np.power((test-Closing_price),2)))\n",
    "rms"
   ]
  },
  {
   "cell_type": "code",
   "execution_count": 8,
   "metadata": {
    "colab": {
     "base_uri": "https://localhost:8080/"
    },
    "id": "2Un985j_V9OE",
    "outputId": "5f3417c3-500d-4a21-9046-556bacf3e46a",
    "scrolled": true
   },
   "outputs": [
    {
     "name": "stderr",
     "output_type": "stream",
     "text": [
      "<ipython-input-8-c61344cf001a>:3: SettingWithCopyWarning: \n",
      "A value is trying to be set on a copy of a slice from a DataFrame.\n",
      "Try using .loc[row_indexer,col_indexer] = value instead\n",
      "\n",
      "See the caveats in the documentation: https://pandas.pydata.org/pandas-docs/stable/user_guide/indexing.html#returning-a-view-versus-a-copy\n",
      "  test['Predictions'] = Closing_price\n"
     ]
    }
   ],
   "source": [
    "train = dataset[:434]\n",
    "test = dataset[434:]\n",
    "test['Predictions'] = Closing_price "
   ]
  },
  {
   "cell_type": "code",
   "execution_count": 9,
   "metadata": {
    "colab": {
     "base_uri": "https://localhost:8080/",
     "height": 517
    },
    "id": "oKmoOVimQ0ba",
    "outputId": "de1f93f3-f805-4d27-9d2c-e6aacc3746bd"
   },
   "outputs": [
    {
     "data": {
      "text/plain": [
       "[<matplotlib.lines.Line2D at 0x224ff9f0be0>,\n",
       " <matplotlib.lines.Line2D at 0x224ff9f0ca0>]"
      ]
     },
     "execution_count": 9,
     "metadata": {},
     "output_type": "execute_result"
    },
    {
     "data": {
      "image/png": "[encoded data removed]",
      "text/plain": [
       "<Figure size 1440x576 with 1 Axes>"
      ]
     },
     "metadata": {
      "needs_background": "light"
     },
     "output_type": "display_data"
    }
   ],
   "source": [
    "f = plt.figure()\n",
    "f.set_figwidth(20)\n",
    "f.set_figheight(8)\n",
    "\n",
    "plt.plot(train['Close_Price'])\n",
    "plt.plot(test[['Close_Price','Predictions']])\n",
    "\n",
    "\n"
   ]
  },
  {
   "cell_type": "code",
   "execution_count": 12,
   "metadata": {},
   "outputs": [],
   "source": [
    "def rmse_metric(actual, predicted):\n",
    "\tsum_error = 0.0\n",
    "\tfor i in range(len(actual)):\n",
    "\t\tprediction_error = predicted[i] - actual[i]\n",
    "\t\tsum_error += (prediction_error ** 2)\n",
    "\tmean_error = sum_error / float(len(actual))\n",
    "\treturn np.sqrt(mean_error)"
   ]
  },
  {
   "cell_type": "code",
   "execution_count": 13,
   "metadata": {},
   "outputs": [
    {
     "data": {
      "text/plain": [
       "13.48427235043226"
      ]
     },
     "execution_count": 13,
     "metadata": {},
     "output_type": "execute_result"
    }
   ],
   "source": [
    "rmse_metric(test['Close_Price'],test['Predictions'])"
   ]
  },
  {
   "cell_type": "code",
   "execution_count": 21,
   "metadata": {},
   "outputs": [],
   "source": [
    "##### ARIMA MODEL\n"
   ]
  },
  {
   "cell_type": "code",
   "execution_count": 22,
   "metadata": {},
   "outputs": [],
   "source": [
    "df = pd.read_csv(r\"C:\\Users\\Lenovo\\Downloads\\wipro_Stock_data.csv\")"
   ]
  },
  {
   "cell_type": "code",
   "execution_count": 26,
   "metadata": {},
   "outputs": [
    {
     "name": "stdout",
     "output_type": "stream",
     "text": [
      "Performing stepwise search to minimize aic\n",
      " ARIMA(1,1,1)(0,1,1)[12]             : AIC=inf, Time=0.90 sec\n",
      " ARIMA(0,1,0)(0,1,0)[12]             : AIC=2964.385, Time=0.03 sec\n",
      " ARIMA(1,1,0)(1,1,0)[12]             : AIC=2852.591, Time=0.22 sec\n",
      " ARIMA(0,1,1)(0,1,1)[12]             : AIC=inf, Time=0.42 sec\n",
      " ARIMA(1,1,0)(0,1,0)[12]             : AIC=2965.464, Time=0.05 sec\n",
      " ARIMA(1,1,0)(2,1,0)[12]             : AIC=2796.825, Time=0.40 sec\n",
      " ARIMA(1,1,0)(2,1,1)[12]             : AIC=inf, Time=1.34 sec\n",
      " ARIMA(1,1,0)(1,1,1)[12]             : AIC=inf, Time=0.67 sec\n",
      " ARIMA(0,1,0)(2,1,0)[12]             : AIC=2796.464, Time=0.33 sec\n",
      " ARIMA(0,1,0)(1,1,0)[12]             : AIC=2852.855, Time=0.11 sec\n",
      " ARIMA(0,1,0)(2,1,1)[12]             : AIC=inf, Time=1.15 sec\n",
      " ARIMA(0,1,0)(1,1,1)[12]             : AIC=inf, Time=0.42 sec\n",
      " ARIMA(0,1,1)(2,1,0)[12]             : AIC=2796.874, Time=0.38 sec\n",
      " ARIMA(1,1,1)(2,1,0)[12]             : AIC=2798.777, Time=1.52 sec\n",
      " ARIMA(0,1,0)(2,1,0)[12] intercept   : AIC=2798.410, Time=0.98 sec\n",
      "\n",
      "Best model:  ARIMA(0,1,0)(2,1,0)[12]          \n",
      "Total fit time: 8.930 seconds\n"
     ]
    }
   ],
   "source": [
    "from pmdarima import auto_arima\n",
    "\n",
    "data = df.sort_index(ascending=True, axis=0)\n",
    "\n",
    "train = data[:435]\n",
    "valid = data[435:]\n",
    "\n",
    "training = train['Close Price']\n",
    "validation = valid['Close Price']\n",
    "\n",
    "model = auto_arima(training, start_p=1, start_q=1,max_p=3, max_q=3, m=12,start_P=0, seasonal=True,d=1, D=1, trace=True,error_action='ignore',suppress_warnings=True)\n",
    "model.fit(training)\n",
    "\n",
    "forecast = model.predict(n_periods=61)\n",
    "forecast = pd.DataFrame(forecast,index = valid.index,columns=['Prediction'])"
   ]
  },
  {
   "cell_type": "code",
   "execution_count": 28,
   "metadata": {},
   "outputs": [
    {
     "data": {
      "text/plain": [
       "63.897150655931476"
      ]
     },
     "execution_count": 28,
     "metadata": {},
     "output_type": "execute_result"
    }
   ],
   "source": [
    "rms=np.sqrt(np.mean(np.power((np.array(valid['Close Price'])-np.array(forecast['Prediction'])),2)))\n",
    "rms"
   ]
  },
  {
   "cell_type": "code",
   "execution_count": 30,
   "metadata": {},
   "outputs": [
    {
     "data": {
      "text/plain": [
       "[<matplotlib.lines.Line2D at 0x233efd02b20>]"
      ]
     },
     "execution_count": 30,
     "metadata": {},
     "output_type": "execute_result"
    },
    {
     "data": {
      "image/png": "[encoded data removed]",
      "text/plain": [
       "<Figure size 432x288 with 1 Axes>"
      ]
     },
     "metadata": {
      "needs_background": "light"
     },
     "output_type": "display_data"
    }
   ],
   "source": [
    "#plot\n",
    "plt.plot(train['Close Price'])\n",
    "plt.plot(valid['Close Price'])\n",
    "plt.plot(forecast['Prediction'])"
   ]
  },
  {
   "cell_type": "code",
   "execution_count": 35,
   "metadata": {},
   "outputs": [
    {
     "ename": "ModuleNotFoundError",
     "evalue": "No module named 'fbprophet'",
     "output_type": "error",
     "traceback": [
      "\u001b[1;31m---------------------------------------------------------------------------\u001b[0m",
      "\u001b[1;31mModuleNotFoundError\u001b[0m                       Traceback (most recent call last)",
      "\u001b[1;32m<ipython-input-35-5081dc982839>\u001b[0m in \u001b[0;36m<module>\u001b[1;34m\u001b[0m\n\u001b[0;32m      1\u001b[0m \u001b[1;31m#importing prophet\u001b[0m\u001b[1;33m\u001b[0m\u001b[1;33m\u001b[0m\u001b[1;33m\u001b[0m\u001b[0m\n\u001b[1;32m----> 2\u001b[1;33m \u001b[1;32mfrom\u001b[0m \u001b[0mfbprophet\u001b[0m \u001b[1;32mimport\u001b[0m \u001b[0mProphet\u001b[0m\u001b[1;33m\u001b[0m\u001b[1;33m\u001b[0m\u001b[0m\n\u001b[0m\u001b[0;32m      3\u001b[0m \u001b[1;33m\u001b[0m\u001b[0m\n\u001b[0;32m      4\u001b[0m \u001b[1;31m#creating dataframe\u001b[0m\u001b[1;33m\u001b[0m\u001b[1;33m\u001b[0m\u001b[1;33m\u001b[0m\u001b[0m\n\u001b[0;32m      5\u001b[0m \u001b[0mnew_data\u001b[0m \u001b[1;33m=\u001b[0m \u001b[0mpd\u001b[0m\u001b[1;33m.\u001b[0m\u001b[0mDataFrame\u001b[0m\u001b[1;33m(\u001b[0m\u001b[0mindex\u001b[0m\u001b[1;33m=\u001b[0m\u001b[0mrange\u001b[0m\u001b[1;33m(\u001b[0m\u001b[1;36m0\u001b[0m\u001b[1;33m,\u001b[0m\u001b[0mlen\u001b[0m\u001b[1;33m(\u001b[0m\u001b[0mdf\u001b[0m\u001b[1;33m)\u001b[0m\u001b[1;33m)\u001b[0m\u001b[1;33m,\u001b[0m\u001b[0mcolumns\u001b[0m\u001b[1;33m=\u001b[0m\u001b[1;33m[\u001b[0m\u001b[1;34m'Date'\u001b[0m\u001b[1;33m,\u001b[0m \u001b[1;34m'Close'\u001b[0m\u001b[1;33m]\u001b[0m\u001b[1;33m)\u001b[0m\u001b[1;33m\u001b[0m\u001b[1;33m\u001b[0m\u001b[0m\n",
      "\u001b[1;31mModuleNotFoundError\u001b[0m: No module named 'fbprophet'"
     ]
    }
   ],
   "source": [
    "#importing prophet\n",
    "from fbprophet import Prophet\n",
    "\n",
    "#creating dataframe\n",
    "new_data = pd.DataFrame(index=range(0,len(df)),columns=['Date', 'Close'])\n",
    "\n",
    "for i in range(0,len(data)):\n",
    "    new_data['Date'][i] = data['Date'][i]\n",
    "    new_data['Close'][i] = data['Close Price'][i]\n",
    "\n",
    "new_data['Date'] = pd.to_datetime(new_data.Date,format='%Y-%m-%d')\n",
    "new_data.index = new_data['Date']\n",
    "\n",
    "#preparing data\n",
    "new_data.rename(columns={'Close': 'y', 'Date': 'ds'}, inplace=True)\n",
    "\n",
    "#train and validation\n",
    "train = new_data[:435]\n",
    "valid = new_data[435:]\n",
    "\n",
    "#fit the model\n",
    "model = Prophet()\n",
    "model.fit(train)\n",
    "\n",
    "#predictions\n",
    "close_prices = model.make_future_dataframe(periods=len(valid))\n",
    "forecast = model.predict(close_prices)"
   ]
  },
  {
   "cell_type": "code",
   "execution_count": null,
   "metadata": {},
   "outputs": [],
   "source": []
  },
  {
   "cell_type": "code",
   "execution_count": null,
   "metadata": {},
   "outputs": [],
   "source": []
  }
 ],
 "metadata": {
  "colab": {
   "name": "Final.ipynb",
   "provenance": []
  },
  "kernelspec": {
   "display_name": "Python 3",
   "language": "python",
   "name": "python3"
  },
  "language_info": {
   "codemirror_mode": {
    "name": "ipython",
    "version": 3
   },
   "file_extension": ".py",
   "mimetype": "text/x-python",
   "name": "python",
   "nbconvert_exporter": "python",
   "pygments_lexer": "ipython3",
   "version": "3.8.3"
  }
 },
 "nbformat": 4,
 "nbformat_minor": 1
}
