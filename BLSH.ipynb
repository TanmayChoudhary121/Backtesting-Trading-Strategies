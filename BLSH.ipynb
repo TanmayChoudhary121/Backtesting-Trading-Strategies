{
 "cells": [
  {
   "cell_type": "code",
   "execution_count": 3,
   "metadata": {},
   "outputs": [],
   "source": [
    "import robin_stocks as r\n",
    "import pandas as pd\n",
    "from datetime import datetime\n",
    "from config import *\n",
    "import numpy as np\n"
   ]
  },
  {
   "cell_type": "code",
   "execution_count": null,
   "metadata": {},
   "outputs": [],
   "source": [
    "r.login(rh_username,rh_password)\n",
    "my_stocks = r.build_holdings()\n",
    "df = pd.DataFrame(my_stocks)\n",
    "df"
   ]
  },
  {
   "cell_type": "code",
   "execution_count": null,
   "metadata": {},
   "outputs": [],
   "source": [
    "df = df.T\n",
    "df['ticker'] = df.index\n",
    "df = df.reset_index(drop=True)\n",
    "df.to_csv('stocks.csv')"
   ]
  },
  {
   "cell_type": "code",
   "execution_count": null,
   "metadata": {},
   "outputs": [],
   "source": [
    "cols = df.columns.drop(['id','type','name','pe_ratio','ticker'])\n",
    "df[cols] = df[cols].apply(pd.to_numeric, errors='coerce')"
   ]
  },
  {
   "cell_type": "code",
   "execution_count": null,
   "metadata": {},
   "outputs": [],
   "source": [
    "df.dtypes"
   ]
  },
  {
   "cell_type": "code",
   "execution_count": null,
   "metadata": {},
   "outputs": [],
   "source": [
    "df_buy = df[(df['average_buy_price'] <= 25.000) & (df['quantity'] == 1.000000) & (df['percent_change'] <= -.50)]\n",
    "df_sell = df[(df['quantity'] == 5.000000) & (df['percent_change'] >= .50)]"
   ]
  },
  {
   "cell_type": "code",
   "execution_count": null,
   "metadata": {},
   "outputs": [],
   "source": [
    "df_buy"
   ]
  },
  {
   "cell_type": "code",
   "execution_count": null,
   "metadata": {},
   "outputs": [],
   "source": [
    "df_sell"
   ]
  },
  {
   "cell_type": "code",
   "execution_count": null,
   "metadata": {},
   "outputs": [],
   "source": [
    "tkr_buy_list  = df_buy['ticker'].tolist()\n",
    "tkr_sell_list = df_sell['ticker'].tolist()"
   ]
  },
  {
   "cell_type": "code",
   "execution_count": null,
   "metadata": {},
   "outputs": [],
   "source": [
    "print(f\"{len(r.orders.get_all_open_orders())} open order\") "
   ]
  },
  {
   "cell_type": "code",
   "execution_count": null,
   "metadata": {},
   "outputs": [],
   "source": [
    "r.orders.cancel_all_open_orders()"
   ]
  },
  {
   "cell_type": "code",
   "execution_count": null,
   "metadata": {},
   "outputs": [],
   "source": [
    "if len(tkr_sell_list) > 0:\n",
    "    for i in tkr_sell_list:\n",
    "        print(i)\n",
    "        print(r.orders.order_sell_market(i,4,timeInForce= 'gfd'))\n",
    "else:\n",
    "    print('Nothing to sell right now!')"
   ]
  },
  {
   "cell_type": "code",
   "execution_count": null,
   "metadata": {},
   "outputs": [],
   "source": [
    "if len(tkr_buy_list) > 0:\n",
    "    for i in tkr_buy_list:\n",
    "        test = r.orders.order_buy_market(i,4,timeInForce= 'gfd')\n",
    "        print(i)\n",
    "        print(test)\n",
    "        print(type(test))\n",
    "else:\n",
    "    print('Nothing to buy right now!')"
   ]
  },
  {
   "cell_type": "code",
   "execution_count": null,
   "metadata": {},
   "outputs": [],
   "source": [
    "r.get_crypto_currency_pairs()"
   ]
  },
  {
   "cell_type": "code",
   "execution_count": null,
   "metadata": {},
   "outputs": [],
   "source": [
    "r.stocks.get_earnings('TSLA',info='report')"
   ]
  }
 ],
 "metadata": {
  "kernelspec": {
   "display_name": "Python 3",
   "language": "python",
   "name": "python3"
  },
  "language_info": {
   "codemirror_mode": {
    "name": "ipython",
    "version": 3
   },
   "file_extension": ".py",
   "mimetype": "text/x-python",
   "name": "python",
   "nbconvert_exporter": "python",
   "pygments_lexer": "ipython3",
   "version": "3.8.3"
  }
 },
 "nbformat": 4,
 "nbformat_minor": 4
}
